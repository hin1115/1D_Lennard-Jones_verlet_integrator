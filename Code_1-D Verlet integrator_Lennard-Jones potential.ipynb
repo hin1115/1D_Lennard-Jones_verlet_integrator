{
 "cells": [
  {
   "cell_type": "code",
   "execution_count": 1,
   "metadata": {},
   "outputs": [
    {
     "data": {
      "text/plain": [
       "<matplotlib.legend.Legend at 0x2a4e5ecd9d0>"
      ]
     },
     "execution_count": 1,
     "metadata": {},
     "output_type": "execute_result"
    },
    {
     "data": {
      "image/png": "[encoded data removed]",
      "text/plain": [
       "<Figure size 432x432 with 1 Axes>"
      ]
     },
     "metadata": {
      "needs_background": "light"
     },
     "output_type": "display_data"
    }
   ],
   "source": [
    "import numpy as np\n",
    "import matplotlib.pyplot as plt\n",
    "from scipy.constants import Boltzmann\n",
    "\n",
    "\n",
    "#Plot LJ potential (Dimensionless) \n",
    "r = np.linspace(0.01,3.0,num=500)\n",
    "sigma0 = 1 #dimensionless\n",
    "epsilon0 = 1 #dimensionless\n",
    "\n",
    "\n",
    "temp = sigma0 / r\n",
    "lj_potential = 4 * epsilon0 * ((temp**12) - (temp**6))\n",
    "\n",
    "\n",
    "plt.figure(figsize=[6,6])\n",
    "plt.xlim([0.0,4.0])\n",
    "plt.ylim([-2.0,5.0])\n",
    "\n",
    "plt.plot(r,lj_potential,'r-',linewidth=1,label=r\"LJ_potential\") \n",
    "plt.title(r\"$Lennard-Jones\\; potential$\",fontsize=20)\n",
    "\n",
    "plt.rc('xtick', labelsize=10) \n",
    "plt.rc('ytick', labelsize=10) \n",
    "plt.axhline(0, color='grey',linestyle='--',linewidth=2)\n",
    "plt.axvline(1, color='grey',linestyle='--',linewidth=2)\n",
    "\n",
    "plt.ylabel(r\"U(r)\",fontsize=20)\n",
    "plt.xlabel(r\"$r/\\sigma$\",fontsize=20)\n",
    "plt.legend(frameon=False,fontsize=20)"
   ]
  },
  {
   "cell_type": "code",
   "execution_count": 2,
   "metadata": {},
   "outputs": [],
   "source": [
    "#calculate force from LJ potential\n",
    "def calculate_force(r, epsilon, sigma):\n",
    "               \n",
    "    force = 48*epsilon*(sigma**12 / r**13) - 24*epsilon*(sigma**6 / r**7)\n",
    "\n",
    "    return force\n",
    "\n",
    "#calculate the acceleration between two paritcles\n",
    "\n",
    "def calculate_acc(x, L):\n",
    "    \n",
    "    accel = np.zeros((x.size, x.size))\n",
    "    for i in range(0, x.size - 1):\n",
    "        for j in range(i + 1, x.size):\n",
    "            distance = x[j] - x[i]\n",
    "            distance_abs = np.sqrt(distance * distance)\n",
    "            force_scalar = calculate_force(distance_abs, epsilon, sigma)\n",
    "            force_x = force_scalar * distance / distance_abs\n",
    "            accel[i, j] = force_x / mass\n",
    "            accel[j, i] = - force_x / mass\n",
    "    acc = np.sum(accel, axis=0)\n",
    "    return acc\n",
    "#velocity verlet for position\n",
    "\n",
    "def verlet_x(x, v, a, dt, L):\n",
    "    \n",
    "    x_new = x + v*dt + 0.5*a*dt*dt\n",
    "    x_new = x_new % L\n",
    "    position = x_new\n",
    "    \n",
    "    return position\n",
    "\n",
    "#velocity verlet for velocity\n",
    "def verlet_v(v, a, a_new, dt):\n",
    "    \n",
    "    v_new = v + (a+a_new)*dt/2\n",
    "   \n",
    "    return v_new    \n",
    "\n",
    "#calculate initial velocity\n",
    "def init_velocity(N, T):\n",
    "   \n",
    "    #R = np.random.rand(N) - 0.5\n",
    "    R = np.array([-0.5, 0.5])\n",
    "    initial_vel = R * np.sqrt (k_b* T / mass)\n",
    "    \n",
    "    return initial_vel\n",
    "\n"
   ]
  },
  {
   "cell_type": "code",
   "execution_count": 10,
   "metadata": {
    "scrolled": false
   },
   "outputs": [
    {
     "name": "stdout",
     "output_type": "stream",
     "text": [
      "Acceleration of atom1 = 1.451e-04 eV/Åamu\n",
      "Acceleration of atom2 = -1.451e-04 eV/Åamu\n",
      "Initial Velocity of atom1 = -1.272e-02 eVs/Åamu\n",
      "Initial Velocity of atom2 = 1.272e-02 eVs/Åamu\n",
      "Initial Temperature = 300K\n",
      "Initial Position of atom1 = 1Å\n",
      "Initial Position of atom2 = 5Å\n"
     ]
    },
    {
     "data": {
      "image/png": "[encoded data removed]",
      "text/plain": [
       "<Figure size 432x288 with 1 Axes>"
      ]
     },
     "metadata": {
      "needs_background": "light"
     },
     "output_type": "display_data"
    }
   ],
   "source": [
    "#Parameters\n",
    "\n",
    "mass =39.948 #mass of argon, amu\n",
    "k_b = 1.380649e-23 / 1.602e-19 #Boltzmann\n",
    "initial_temp = 300 #Initial Temperature\n",
    "sigma=3.4  #Å\n",
    "epsilon = 0.01042332#eV  / equal to 1.67e-21 J\n",
    "\n",
    "\n",
    "#main Loop\n",
    "N_steps = 10000\n",
    "dt = 0.1\n",
    "x = np.array([1, 5]) #Initial Position\n",
    "L = 10\n",
    "\n",
    "positions = np.zeros((N_steps, x.size))\n",
    "v = init_velocity(x.size, initial_temp)\n",
    "a = calculate_acc(x, L)\n",
    "a_init = a\n",
    "v_init = v\n",
    "x_init = x\n",
    "\n",
    "\n",
    "for i in range(N_steps):\n",
    "    x = verlet_x(x, v, a, dt, L)\n",
    "    a_new = calculate_acc(x, L)\n",
    "    v = verlet_v(v, a, a_new, dt)\n",
    "    a = np.array(a_new)\n",
    "    positions[i, :] = x\n",
    "    \n",
    "#Print Result & Plot\n",
    "print('Acceleration of atom1 = {:.3e} eV/Åamu'.format(a_init[0]))\n",
    "print('Acceleration of atom2 = {:.3e} eV/Åamu'.format(a_init[1]))    \n",
    "\n",
    "print('Initial Velocity of atom1 = {:.3e} eVs/Åamu'.format(v_init[0]))\n",
    "print('Initial Velocity of atom2 = {:.3e} eVs/Åamu'.format(v_init[1]))\n",
    "\n",
    "print('Initial Temperature = {:}K'.format(initial_temp))\n",
    "print('Initial Position of atom1 = {:}Å'.format(x_init[0]))\n",
    "print('Initial Position of atom2 = {:}Å'.format(x_init[1]))\n",
    "      \n",
    "%matplotlib inline\n",
    "for i in range(positions.shape[1]):\n",
    "    plt.plot(positions[:, i], '.', label='atom {}'.format(i+1))\n",
    "plt.xlabel(r'Steps')\n",
    "plt.ylabel(r'Position(Å)')\n",
    "plt.ylim(0, L)\n",
    "plt.legend(frameon=False)\n",
    "plt.show()"
   ]
  }
 ],
 "metadata": {
  "kernelspec": {
   "display_name": "Python 3",
   "language": "python",
   "name": "python3"
  },
  "language_info": {
   "codemirror_mode": {
    "name": "ipython",
    "version": 3
   },
   "file_extension": ".py",
   "mimetype": "text/x-python",
   "name": "python",
   "nbconvert_exporter": "python",
   "pygments_lexer": "ipython3",
   "version": "3.8.3"
  }
 },
 "nbformat": 4,
 "nbformat_minor": 4
}
